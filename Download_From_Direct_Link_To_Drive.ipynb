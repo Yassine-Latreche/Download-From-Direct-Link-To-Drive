{
  "nbformat": 4,
  "nbformat_minor": 0,
  "metadata": {
    "colab": {
      "name": "Download From Direct Link To Drive.ipynb",
      "provenance": [],
      "collapsed_sections": [],
      "authorship_tag": "ABX9TyPheIuhbmLGZJRvBOaTEsUN",
      "include_colab_link": true
    },
    "kernelspec": {
      "name": "python3",
      "display_name": "Python 3"
    }
  },
  "cells": [
    {
      "cell_type": "markdown",
      "metadata": {
        "id": "view-in-github",
        "colab_type": "text"
      },
      "source": [
        "<a href=\"https://colab.research.google.com/github/Yassine-Latreche/Download-From-Direct-Link-To-Drive/blob/main/Download_From_Direct_Link_To_Drive.ipynb\" target=\"_parent\"><img src=\"https://colab.research.google.com/assets/colab-badge.svg\" alt=\"Open In Colab\"/></a>"
      ]
    },
    {
      "cell_type": "markdown",
      "metadata": {
        "id": "hzcYuTG5I5ji"
      },
      "source": [
        "#Download From Direct Link To Drive:\n",
        "I created this notebook because my internet connection is so bad, and some websites doesn't allow resuming downloads so if you lost your connection, you have to start again from the beginning.\n",
        "\n",
        "```\n",
        "Belive me , it really sucks\n",
        "```\n",
        "With Google Colab service, we can benefit for it's ability to execute terminal commands like `wget` and to connect with our drive.\n",
        "\n",
        "# BEFORE YOU USE IT:\n",
        "I think that you are an adult, and so ...\n",
        "#### **YOU ARE RESPONSIBLE FOR YOUR USE OF THIS METHOD.**"
      ]
    },
    {
      "cell_type": "markdown",
      "metadata": {
        "id": "l9HPKjYIJyxJ"
      },
      "source": [
        "## How does it work ?\n",
        "\n",
        "\n",
        "1.   Mount your drive.\n",
        "2.   Use wget to download the file.\n",
        "3.   Move your file to your drive.\n",
        "4.   Done!\n",
        "\n"
      ]
    },
    {
      "cell_type": "markdown",
      "metadata": {
        "id": "CIi60m5lKnSI"
      },
      "source": [
        "### Mount your drive:"
      ]
    },
    {
      "cell_type": "code",
      "metadata": {
        "id": "Xpehx1vXIykC"
      },
      "source": [
        "from google.colab import drive\n",
        "drive.mount('/content/drive')"
      ],
      "execution_count": null,
      "outputs": []
    },
    {
      "cell_type": "markdown",
      "metadata": {
        "id": "DR_kvuUjKuMI"
      },
      "source": [
        "### Use wget to download the file:\n",
        "Replace your link with `link` and the output filename with `filename`."
      ]
    },
    {
      "cell_type": "code",
      "metadata": {
        "id": "ThdEeicaKxPn"
      },
      "source": [
        "! wget \"link\" -o \"filename\""
      ],
      "execution_count": null,
      "outputs": []
    },
    {
      "cell_type": "markdown",
      "metadata": {
        "id": "bFEDxAgAKuke"
      },
      "source": [
        "### Move your file to your drive:\n",
        "Make sure your drive is mounted in `./drive/MyDrive`.\n",
        "Replace your destination in `destination` - P.S: you can leave it empty to move your file to the root folder in Drive."
      ]
    },
    {
      "cell_type": "code",
      "metadata": {
        "id": "bPPLfRJLLNGk"
      },
      "source": [
        "! mv \"filename\" drive/MyDrive/\"destination\""
      ],
      "execution_count": null,
      "outputs": []
    },
    {
      "cell_type": "markdown",
      "metadata": {
        "id": "VUoN84C9KuyQ"
      },
      "source": [
        "### Done."
      ]
    }
  ]
}